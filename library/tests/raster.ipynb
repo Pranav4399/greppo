{
 "cells": [
  {
   "cell_type": "code",
   "execution_count": 14,
   "metadata": {},
   "outputs": [],
   "source": [
    "import rasterio\n",
    "from rasterio.io import MemoryFile\n",
    "from rasterio.warp import calculate_default_transform\n",
    "from rasterio.warp import reproject\n",
    "import numpy as np"
   ]
  },
  {
   "cell_type": "code",
   "execution_count": 5,
   "metadata": {},
   "outputs": [],
   "source": [
    "file_path = 'data/rvrnbrt.tif'\n",
    "src_dataset = rasterio.open(file_path)\n",
    "dst_crs = \"EPSG:4326\"\n",
    "\n",
    "transform, width, height = calculate_default_transform(\n",
    "    src_dataset.crs,\n",
    "    dst_crs,\n",
    "    src_dataset.width,\n",
    "    src_dataset.height,\n",
    "    *src_dataset.bounds\n",
    ")\n",
    "\n",
    "dst_bands = []\n",
    "for band_n_1 in range(src_dataset.count):\n",
    "    src_band = rasterio.band(src_dataset, band_n_1 + 1)\n",
    "    dst_band = reproject(src_band, dst_crs=dst_crs)\n",
    "    dst_bands.append(dst_band)\n",
    "\n",
    "(bounds_bottom, bounds_right) = transform * (0, 0)\n",
    "(bounds_top, bounds_left) = transform * (width, height)\n",
    "bounds = [[bounds_left, bounds_bottom], [bounds_right, bounds_top]]"
   ]
  },
  {
   "cell_type": "code",
   "execution_count": 13,
   "metadata": {},
   "outputs": [
    {
     "data": {
      "text/plain": [
       "numpy.ndarray"
      ]
     },
     "execution_count": 13,
     "metadata": {},
     "output_type": "execute_result"
    }
   ],
   "source": [
    "type(dst_bands[0][0])"
   ]
  },
  {
   "cell_type": "code",
   "execution_count": 15,
   "metadata": {},
   "outputs": [],
   "source": [
    "arr = np.atleast_3d(dst_bands[0][0])\n",
    "height, width, nblayers = arr.shape"
   ]
  },
  {
   "cell_type": "code",
   "execution_count": 22,
   "metadata": {},
   "outputs": [
    {
     "name": "stdout",
     "output_type": "stream",
     "text": [
      "(2290, 4511)\n"
     ]
    }
   ],
   "source": [
    "print(dst_bands[0][0][0].shape)"
   ]
  },
  {
   "cell_type": "code",
   "execution_count": 20,
   "metadata": {},
   "outputs": [],
   "source": [
    "image = np.zeros((61, 61))\n",
    "image[0, :] = 1.0\n",
    "image[60, :] = 1.0\n",
    "image[:, 0] = 1.0\n",
    "image[:, 60] = 1.0"
   ]
  },
  {
   "cell_type": "code",
   "execution_count": 21,
   "metadata": {},
   "outputs": [
    {
     "data": {
      "text/plain": [
       "(61, 61)"
      ]
     },
     "execution_count": 21,
     "metadata": {},
     "output_type": "execute_result"
    }
   ],
   "source": [
    "image.shape"
   ]
  },
  {
   "cell_type": "code",
   "execution_count": null,
   "metadata": {},
   "outputs": [],
   "source": []
  },
  {
   "cell_type": "code",
   "execution_count": null,
   "metadata": {},
   "outputs": [],
   "source": []
  },
  {
   "cell_type": "code",
   "execution_count": null,
   "metadata": {},
   "outputs": [],
   "source": []
  },
  {
   "cell_type": "code",
   "execution_count": null,
   "metadata": {},
   "outputs": [],
   "source": [
    "src_dataset = rasterio.open(file_path)\n",
    "dst_crs = \"EPSG:4326\"\n",
    "\n",
    "transform, width, height = calculate_default_transform(\n",
    "    src_dataset.crs,\n",
    "    dst_crs,\n",
    "    src_dataset.width,\n",
    "    src_dataset.height,\n",
    "    *src_dataset.bounds\n",
    ")\n",
    "\n",
    "dst_bands = []\n",
    "for band_n_1 in range(src_dataset.count):\n",
    "    src_band = rasterio.band(src_dataset, band_n_1 + 1)\n",
    "    dst_band = reproject(src_band, dst_crs=dst_crs)\n",
    "    dst_bands.append(dst_band)\n",
    "\n",
    "if src_dataset.count != 3:\n",
    "    for i in range(len(dst_bands), src_dataset.count):\n",
    "        dst_bands.append(rasterio.band(src_dataset, 1))\n",
    "\n",
    "alpha = np.where(dst_bands[0][0] > 1e8, 0, 1)\n",
    "alpha_band = list(copy.deepcopy(dst_bands[0]))\n",
    "alpha_band[0] = alpha.astype(\"uint8\")\n",
    "dst_bands.append(tuple(alpha_band))\n",
    "\n",
    "png_kwargs = src_dataset.meta.copy()\n",
    "png_kwargs.update(\n",
    "    {\n",
    "        \"crs\": dst_crs,\n",
    "        \"width\": width,\n",
    "        \"height\": height,\n",
    "        \"driver\": \"PNG\",\n",
    "        \"dtype\": rasterio.uint8,\n",
    "        \"transform\": transform,\n",
    "        \"count\": len(dst_bands),\n",
    "    }\n",
    ")\n",
    "\n",
    "with MemoryFile() as png_memfile:\n",
    "    with png_memfile.open(**png_kwargs) as dst_file:\n",
    "        for i_1, dst_band in enumerate(dst_bands):\n",
    "            dst_file.write(dst_band[0][0], i_1 + 1)\n",
    "\n",
    "            dst_file.write_colormap(\n",
    "                i_1 + 1, {0: (255, 0, 0, 255), 255: (0, 0, 0, 255)}\n",
    "            )\n",
    "\n",
    "        self.raster_image_reference.append(png_memfile.read())\n",
    "\n",
    "    url = (\n",
    "        \"data:image/png;base64,\" +\n",
    "        base64.b64encode(png_memfile.read()).decode()\n",
    "    )\n",
    "    (bounds_bottom, bounds_right) = transform * (0, 0)\n",
    "    (bounds_top, bounds_left) = transform * (width, height)\n",
    "    bounds = [[bounds_left, bounds_bottom], [bounds_right, bounds_top]]\n"
   ]
  }
 ],
 "metadata": {
  "interpreter": {
   "hash": "fc8f77221436e4044d867e1907c88086e1474cdce883037d3c4751ab39443347"
  },
  "kernelspec": {
   "display_name": "Python 3.9.5 64-bit ('geo')",
   "language": "python",
   "name": "python3"
  },
  "language_info": {
   "codemirror_mode": {
    "name": "ipython",
    "version": 3
   },
   "file_extension": ".py",
   "mimetype": "text/x-python",
   "name": "python",
   "nbconvert_exporter": "python",
   "pygments_lexer": "ipython3",
   "version": "3.9.5"
  },
  "orig_nbformat": 4
 },
 "nbformat": 4,
 "nbformat_minor": 2
}
